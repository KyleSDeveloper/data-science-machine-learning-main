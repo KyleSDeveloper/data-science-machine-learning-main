{
 "cells": [
  {
   "cell_type": "code",
   "execution_count": 62,
   "metadata": {},
   "outputs": [],
   "source": [
    "import numpy as np\n",
    "import pandas as pd\n",
    "import matplotlib.pyplot as plt\n",
    "import seaborn as sns\n",
    "sns.set()\n",
    "\n",
    "#preprocessing\n",
    "from sklearn.preprocessing import StandardScaler, MinMaxScaler\n",
    "from scipy.stats import mode\n",
    "\n",
    "\n",
    "# pipelines\n",
    "from sklearn.pipeline import Pipeline\n",
    "\n"
   ]
  },
  {
   "cell_type": "markdown",
   "metadata": {},
   "source": [
    "# Clustering Customer Data\n",
    "\n",
    "In this notebook you will use your previously cleaned and preprocessing customer dataset to practice clustering.\n",
    "I've implemented my own version below (of the preprocessing and cleaning) but you should feel totally free to use your own.\n",
    "\n"
   ]
  },
  {
   "cell_type": "markdown",
   "metadata": {},
   "source": []
  },
  {
   "cell_type": "code",
   "execution_count": 63,
   "metadata": {},
   "outputs": [],
   "source": [
    "# Read in the data found in \"best_one_ever_database.csv\" and take a look at the head and info.\n",
    "data = pd.read_csv(\"best_one_ever_database.csv\", index_col = 'id')"
   ]
  },
  {
   "cell_type": "code",
   "execution_count": 64,
   "metadata": {},
   "outputs": [
    {
     "data": {
      "text/html": [
       "<div>\n",
       "<style scoped>\n",
       "    .dataframe tbody tr th:only-of-type {\n",
       "        vertical-align: middle;\n",
       "    }\n",
       "\n",
       "    .dataframe tbody tr th {\n",
       "        vertical-align: top;\n",
       "    }\n",
       "\n",
       "    .dataframe thead th {\n",
       "        text-align: right;\n",
       "    }\n",
       "</style>\n",
       "<table border=\"1\" class=\"dataframe\">\n",
       "  <thead>\n",
       "    <tr style=\"text-align: right;\">\n",
       "      <th></th>\n",
       "      <th>first_name</th>\n",
       "      <th>last_name</th>\n",
       "      <th>email</th>\n",
       "      <th>gender</th>\n",
       "      <th>ip_address</th>\n",
       "      <th>sales</th>\n",
       "      <th>zip_code</th>\n",
       "      <th>total_num_of_transactions</th>\n",
       "      <th>prob_of_rebuy</th>\n",
       "      <th>money_spent</th>\n",
       "    </tr>\n",
       "    <tr>\n",
       "      <th>id</th>\n",
       "      <th></th>\n",
       "      <th></th>\n",
       "      <th></th>\n",
       "      <th></th>\n",
       "      <th></th>\n",
       "      <th></th>\n",
       "      <th></th>\n",
       "      <th></th>\n",
       "      <th></th>\n",
       "      <th></th>\n",
       "    </tr>\n",
       "  </thead>\n",
       "  <tbody>\n",
       "    <tr>\n",
       "      <th>1</th>\n",
       "      <td>Jarred</td>\n",
       "      <td>Hallsworth</td>\n",
       "      <td>jhallsworth0@biblegateway.com</td>\n",
       "      <td>Non-Binary</td>\n",
       "      <td>223.109.240.148</td>\n",
       "      <td>$606.16</td>\n",
       "      <td>85349</td>\n",
       "      <td>7</td>\n",
       "      <td>NaN</td>\n",
       "      <td>3310.505486</td>\n",
       "    </tr>\n",
       "    <tr>\n",
       "      <th>2</th>\n",
       "      <td>Wayne</td>\n",
       "      <td>Robez</td>\n",
       "      <td>wrobez1@t.co</td>\n",
       "      <td>Male</td>\n",
       "      <td>73.174.113.87</td>\n",
       "      <td>$147.22</td>\n",
       "      <td>85336</td>\n",
       "      <td>9</td>\n",
       "      <td>NaN</td>\n",
       "      <td>2188.852818</td>\n",
       "    </tr>\n",
       "    <tr>\n",
       "      <th>3</th>\n",
       "      <td>Casper</td>\n",
       "      <td>Hayles</td>\n",
       "      <td>chayles2@cdc.gov</td>\n",
       "      <td>Male</td>\n",
       "      <td>223.249.117.173</td>\n",
       "      <td>$801.97</td>\n",
       "      <td>85350</td>\n",
       "      <td>4</td>\n",
       "      <td>0.597445</td>\n",
       "      <td>2640.499644</td>\n",
       "    </tr>\n",
       "    <tr>\n",
       "      <th>4</th>\n",
       "      <td>Mandie</td>\n",
       "      <td>Szepe</td>\n",
       "      <td>mszepe3@lulu.com</td>\n",
       "      <td>Female</td>\n",
       "      <td>31.143.95.228</td>\n",
       "      <td>$336.77</td>\n",
       "      <td>85364</td>\n",
       "      <td>4</td>\n",
       "      <td>NaN</td>\n",
       "      <td>2872.580992</td>\n",
       "    </tr>\n",
       "    <tr>\n",
       "      <th>5</th>\n",
       "      <td>Noam</td>\n",
       "      <td>Cecely</td>\n",
       "      <td>ncecely4@elegantthemes.com</td>\n",
       "      <td>Male</td>\n",
       "      <td>63.71.174.230</td>\n",
       "      <td>$757.45</td>\n",
       "      <td>85369</td>\n",
       "      <td>8</td>\n",
       "      <td>0.127835</td>\n",
       "      <td>2728.008966</td>\n",
       "    </tr>\n",
       "  </tbody>\n",
       "</table>\n",
       "</div>"
      ],
      "text/plain": [
       "   first_name   last_name                          email      gender  \\\n",
       "id                                                                     \n",
       "1      Jarred  Hallsworth  jhallsworth0@biblegateway.com  Non-Binary   \n",
       "2       Wayne       Robez                   wrobez1@t.co        Male   \n",
       "3      Casper      Hayles               chayles2@cdc.gov        Male   \n",
       "4      Mandie       Szepe               mszepe3@lulu.com      Female   \n",
       "5        Noam      Cecely     ncecely4@elegantthemes.com        Male   \n",
       "\n",
       "         ip_address     sales  zip_code  total_num_of_transactions  \\\n",
       "id                                                                   \n",
       "1   223.109.240.148  $606.16      85349                          7   \n",
       "2     73.174.113.87  $147.22      85336                          9   \n",
       "3   223.249.117.173  $801.97      85350                          4   \n",
       "4     31.143.95.228  $336.77      85364                          4   \n",
       "5     63.71.174.230  $757.45      85369                          8   \n",
       "\n",
       "    prob_of_rebuy  money_spent  \n",
       "id                              \n",
       "1             NaN  3310.505486  \n",
       "2             NaN  2188.852818  \n",
       "3        0.597445  2640.499644  \n",
       "4             NaN  2872.580992  \n",
       "5        0.127835  2728.008966  "
      ]
     },
     "execution_count": 64,
     "metadata": {},
     "output_type": "execute_result"
    }
   ],
   "source": [
    "data.head()"
   ]
  },
  {
   "cell_type": "code",
   "execution_count": 65,
   "metadata": {},
   "outputs": [
    {
     "name": "stdout",
     "output_type": "stream",
     "text": [
      "<class 'pandas.core.frame.DataFrame'>\n",
      "Index: 2000 entries, 1 to 2000\n",
      "Data columns (total 10 columns):\n",
      " #   Column                     Non-Null Count  Dtype  \n",
      "---  ------                     --------------  -----  \n",
      " 0   first_name                 2000 non-null   object \n",
      " 1   last_name                  2000 non-null   object \n",
      " 2   email                      2000 non-null   object \n",
      " 3   gender                     2000 non-null   object \n",
      " 4   ip_address                 2000 non-null   object \n",
      " 5   sales                      2000 non-null   object \n",
      " 6   zip_code                   2000 non-null   int64  \n",
      " 7   total_num_of_transactions  2000 non-null   int64  \n",
      " 8   prob_of_rebuy              1538 non-null   float64\n",
      " 9   money_spent                1690 non-null   float64\n",
      "dtypes: float64(2), int64(2), object(6)\n",
      "memory usage: 171.9+ KB\n"
     ]
    }
   ],
   "source": [
    "data.info()"
   ]
  },
  {
   "cell_type": "markdown",
   "metadata": {},
   "source": [
    "# Cleaning The Data\n",
    "\n"
   ]
  },
  {
   "cell_type": "code",
   "execution_count": 66,
   "metadata": {},
   "outputs": [],
   "source": [
    "# drop the name columns using pandas.drop()\n",
    "\n",
    "X = data.drop(labels = ['first_name','last_name'], axis = 1)"
   ]
  },
  {
   "cell_type": "code",
   "execution_count": 67,
   "metadata": {},
   "outputs": [
    {
     "name": "stdout",
     "output_type": "stream",
     "text": [
      "<class 'pandas.core.frame.DataFrame'>\n",
      "Index: 2000 entries, 1 to 2000\n",
      "Data columns (total 8 columns):\n",
      " #   Column                     Non-Null Count  Dtype  \n",
      "---  ------                     --------------  -----  \n",
      " 0   email                      2000 non-null   object \n",
      " 1   gender                     2000 non-null   object \n",
      " 2   ip_address                 2000 non-null   object \n",
      " 3   sales                      2000 non-null   object \n",
      " 4   zip_code                   2000 non-null   int64  \n",
      " 5   total_num_of_transactions  2000 non-null   int64  \n",
      " 6   prob_of_rebuy              1538 non-null   float64\n",
      " 7   money_spent                1690 non-null   float64\n",
      "dtypes: float64(2), int64(2), object(4)\n",
      "memory usage: 140.6+ KB\n"
     ]
    }
   ],
   "source": [
    "X.info()"
   ]
  },
  {
   "cell_type": "markdown",
   "metadata": {},
   "source": [
    "### Transform string columns into useful features\n"
   ]
  },
  {
   "cell_type": "code",
   "execution_count": 68,
   "metadata": {},
   "outputs": [],
   "source": [
    "def strip_dollar(x):\n",
    "    return x[1:]"
   ]
  },
  {
   "cell_type": "code",
   "execution_count": 69,
   "metadata": {},
   "outputs": [],
   "source": [
    "# apply the function to the column and assign it back to the column (it does not work inplace)\n",
    "X.sales = X.sales.apply(strip_dollar)\n",
    "\n",
    "# cast the column to a floating point type - this is very important, otherwise it will be\n",
    "# an object type column that we cannot do arithmetic on the column\n",
    "X.sales = X.sales.astype('float32')"
   ]
  },
  {
   "cell_type": "code",
   "execution_count": 70,
   "metadata": {},
   "outputs": [
    {
     "data": {
      "text/html": [
       "<div>\n",
       "<style scoped>\n",
       "    .dataframe tbody tr th:only-of-type {\n",
       "        vertical-align: middle;\n",
       "    }\n",
       "\n",
       "    .dataframe tbody tr th {\n",
       "        vertical-align: top;\n",
       "    }\n",
       "\n",
       "    .dataframe thead th {\n",
       "        text-align: right;\n",
       "    }\n",
       "</style>\n",
       "<table border=\"1\" class=\"dataframe\">\n",
       "  <thead>\n",
       "    <tr style=\"text-align: right;\">\n",
       "      <th></th>\n",
       "      <th>email</th>\n",
       "      <th>gender</th>\n",
       "      <th>ip_address</th>\n",
       "      <th>sales</th>\n",
       "      <th>zip_code</th>\n",
       "      <th>total_num_of_transactions</th>\n",
       "      <th>prob_of_rebuy</th>\n",
       "      <th>money_spent</th>\n",
       "    </tr>\n",
       "    <tr>\n",
       "      <th>id</th>\n",
       "      <th></th>\n",
       "      <th></th>\n",
       "      <th></th>\n",
       "      <th></th>\n",
       "      <th></th>\n",
       "      <th></th>\n",
       "      <th></th>\n",
       "      <th></th>\n",
       "    </tr>\n",
       "  </thead>\n",
       "  <tbody>\n",
       "    <tr>\n",
       "      <th>1</th>\n",
       "      <td>jhallsworth0@biblegateway.com</td>\n",
       "      <td>Non-Binary</td>\n",
       "      <td>223.109.240.148</td>\n",
       "      <td>606.159973</td>\n",
       "      <td>85349</td>\n",
       "      <td>7</td>\n",
       "      <td>NaN</td>\n",
       "      <td>3310.505486</td>\n",
       "    </tr>\n",
       "    <tr>\n",
       "      <th>2</th>\n",
       "      <td>wrobez1@t.co</td>\n",
       "      <td>Male</td>\n",
       "      <td>73.174.113.87</td>\n",
       "      <td>147.220001</td>\n",
       "      <td>85336</td>\n",
       "      <td>9</td>\n",
       "      <td>NaN</td>\n",
       "      <td>2188.852818</td>\n",
       "    </tr>\n",
       "    <tr>\n",
       "      <th>3</th>\n",
       "      <td>chayles2@cdc.gov</td>\n",
       "      <td>Male</td>\n",
       "      <td>223.249.117.173</td>\n",
       "      <td>801.969971</td>\n",
       "      <td>85350</td>\n",
       "      <td>4</td>\n",
       "      <td>0.597445</td>\n",
       "      <td>2640.499644</td>\n",
       "    </tr>\n",
       "    <tr>\n",
       "      <th>4</th>\n",
       "      <td>mszepe3@lulu.com</td>\n",
       "      <td>Female</td>\n",
       "      <td>31.143.95.228</td>\n",
       "      <td>336.769989</td>\n",
       "      <td>85364</td>\n",
       "      <td>4</td>\n",
       "      <td>NaN</td>\n",
       "      <td>2872.580992</td>\n",
       "    </tr>\n",
       "    <tr>\n",
       "      <th>5</th>\n",
       "      <td>ncecely4@elegantthemes.com</td>\n",
       "      <td>Male</td>\n",
       "      <td>63.71.174.230</td>\n",
       "      <td>757.450012</td>\n",
       "      <td>85369</td>\n",
       "      <td>8</td>\n",
       "      <td>0.127835</td>\n",
       "      <td>2728.008966</td>\n",
       "    </tr>\n",
       "  </tbody>\n",
       "</table>\n",
       "</div>"
      ],
      "text/plain": [
       "                            email      gender       ip_address       sales  \\\n",
       "id                                                                           \n",
       "1   jhallsworth0@biblegateway.com  Non-Binary  223.109.240.148  606.159973   \n",
       "2                    wrobez1@t.co        Male    73.174.113.87  147.220001   \n",
       "3                chayles2@cdc.gov        Male  223.249.117.173  801.969971   \n",
       "4                mszepe3@lulu.com      Female    31.143.95.228  336.769989   \n",
       "5      ncecely4@elegantthemes.com        Male    63.71.174.230  757.450012   \n",
       "\n",
       "    zip_code  total_num_of_transactions  prob_of_rebuy  money_spent  \n",
       "id                                                                   \n",
       "1      85349                          7            NaN  3310.505486  \n",
       "2      85336                          9            NaN  2188.852818  \n",
       "3      85350                          4       0.597445  2640.499644  \n",
       "4      85364                          4            NaN  2872.580992  \n",
       "5      85369                          8       0.127835  2728.008966  "
      ]
     },
     "execution_count": 70,
     "metadata": {},
     "output_type": "execute_result"
    }
   ],
   "source": [
    "X.head()"
   ]
  },
  {
   "cell_type": "code",
   "execution_count": 71,
   "metadata": {},
   "outputs": [
    {
     "name": "stdout",
     "output_type": "stream",
     "text": [
      "gmail.com\n"
     ]
    }
   ],
   "source": [
    "# define functions to apply to the dataframe\n",
    "def strip_emails(x):\n",
    "    at = x.find('@')\n",
    "    return x[at+1:]\n",
    "\n",
    "test_email = 'thisismymail@gmail.com'\n",
    "print(strip_emails(test_email))"
   ]
  },
  {
   "cell_type": "code",
   "execution_count": 72,
   "metadata": {},
   "outputs": [
    {
     "data": {
      "text/html": [
       "<div>\n",
       "<style scoped>\n",
       "    .dataframe tbody tr th:only-of-type {\n",
       "        vertical-align: middle;\n",
       "    }\n",
       "\n",
       "    .dataframe tbody tr th {\n",
       "        vertical-align: top;\n",
       "    }\n",
       "\n",
       "    .dataframe thead th {\n",
       "        text-align: right;\n",
       "    }\n",
       "</style>\n",
       "<table border=\"1\" class=\"dataframe\">\n",
       "  <thead>\n",
       "    <tr style=\"text-align: right;\">\n",
       "      <th></th>\n",
       "      <th>email</th>\n",
       "      <th>gender</th>\n",
       "      <th>ip_address</th>\n",
       "      <th>sales</th>\n",
       "      <th>zip_code</th>\n",
       "      <th>total_num_of_transactions</th>\n",
       "      <th>prob_of_rebuy</th>\n",
       "      <th>money_spent</th>\n",
       "    </tr>\n",
       "    <tr>\n",
       "      <th>id</th>\n",
       "      <th></th>\n",
       "      <th></th>\n",
       "      <th></th>\n",
       "      <th></th>\n",
       "      <th></th>\n",
       "      <th></th>\n",
       "      <th></th>\n",
       "      <th></th>\n",
       "    </tr>\n",
       "  </thead>\n",
       "  <tbody>\n",
       "    <tr>\n",
       "      <th>1</th>\n",
       "      <td>biblegateway.com</td>\n",
       "      <td>Non-Binary</td>\n",
       "      <td>223.109.240.148</td>\n",
       "      <td>606.159973</td>\n",
       "      <td>85349</td>\n",
       "      <td>7</td>\n",
       "      <td>NaN</td>\n",
       "      <td>3310.505486</td>\n",
       "    </tr>\n",
       "    <tr>\n",
       "      <th>2</th>\n",
       "      <td>t.co</td>\n",
       "      <td>Male</td>\n",
       "      <td>73.174.113.87</td>\n",
       "      <td>147.220001</td>\n",
       "      <td>85336</td>\n",
       "      <td>9</td>\n",
       "      <td>NaN</td>\n",
       "      <td>2188.852818</td>\n",
       "    </tr>\n",
       "    <tr>\n",
       "      <th>3</th>\n",
       "      <td>cdc.gov</td>\n",
       "      <td>Male</td>\n",
       "      <td>223.249.117.173</td>\n",
       "      <td>801.969971</td>\n",
       "      <td>85350</td>\n",
       "      <td>4</td>\n",
       "      <td>0.597445</td>\n",
       "      <td>2640.499644</td>\n",
       "    </tr>\n",
       "    <tr>\n",
       "      <th>4</th>\n",
       "      <td>lulu.com</td>\n",
       "      <td>Female</td>\n",
       "      <td>31.143.95.228</td>\n",
       "      <td>336.769989</td>\n",
       "      <td>85364</td>\n",
       "      <td>4</td>\n",
       "      <td>NaN</td>\n",
       "      <td>2872.580992</td>\n",
       "    </tr>\n",
       "    <tr>\n",
       "      <th>5</th>\n",
       "      <td>elegantthemes.com</td>\n",
       "      <td>Male</td>\n",
       "      <td>63.71.174.230</td>\n",
       "      <td>757.450012</td>\n",
       "      <td>85369</td>\n",
       "      <td>8</td>\n",
       "      <td>0.127835</td>\n",
       "      <td>2728.008966</td>\n",
       "    </tr>\n",
       "  </tbody>\n",
       "</table>\n",
       "</div>"
      ],
      "text/plain": [
       "                email      gender       ip_address       sales  zip_code  \\\n",
       "id                                                                         \n",
       "1    biblegateway.com  Non-Binary  223.109.240.148  606.159973     85349   \n",
       "2                t.co        Male    73.174.113.87  147.220001     85336   \n",
       "3             cdc.gov        Male  223.249.117.173  801.969971     85350   \n",
       "4            lulu.com      Female    31.143.95.228  336.769989     85364   \n",
       "5   elegantthemes.com        Male    63.71.174.230  757.450012     85369   \n",
       "\n",
       "    total_num_of_transactions  prob_of_rebuy  money_spent  \n",
       "id                                                         \n",
       "1                           7            NaN  3310.505486  \n",
       "2                           9            NaN  2188.852818  \n",
       "3                           4       0.597445  2640.499644  \n",
       "4                           4            NaN  2872.580992  \n",
       "5                           8       0.127835  2728.008966  "
      ]
     },
     "execution_count": 72,
     "metadata": {},
     "output_type": "execute_result"
    }
   ],
   "source": [
    "# apply the function to the column and assign it back to the column (it does not work inplace)\n",
    "X.email = X.email.apply(strip_emails)\n",
    "X.head()"
   ]
  },
  {
   "cell_type": "markdown",
   "metadata": {},
   "source": [
    "# Is the email column going to be worth it?\n",
    "Let's take a look at this email column and decide if it could help us or not.\n"
   ]
  },
  {
   "cell_type": "code",
   "execution_count": 73,
   "metadata": {},
   "outputs": [],
   "source": [
    "# how many unique domains are there?\n",
    "counts = X.email.value_counts()"
   ]
  },
  {
   "cell_type": "code",
   "execution_count": 74,
   "metadata": {},
   "outputs": [
    {
     "name": "stdout",
     "output_type": "stream",
     "text": [
      "[10 10 10 10 10 10  9  9  9  9  9  9  8  8  8  8  8  8  8  8  8  8  8  8\n",
      "  8  8  8  8  8  8  8  8  8  7  7  7  7  7  7  7  7  7  7  7  7  7  7  7\n",
      "  7  7  7  7  7  7  7  7  7  6  6  6  6  6  6  6  6  6  6  6  6  6  6  6\n",
      "  6  6  6  6  6  6  6  6  6  6  6  6  6  6  6  6  6  6  6  6  6  6  6  6\n",
      "  6  6  6  6  5  5  5  5  5  5  5  5  5  5  5  5  5  5  5  5  5  5  5  5\n",
      "  5  5  5  5  5  5  5  5  5  5  5  5  5  5  5  5  5  5  5  5  5  5  5  5\n",
      "  5  5  5  5  5  5  5  5  5  5  5  5  5  5  5  5  5  5  5  5  5  5  5  5\n",
      "  5  5  5  5  5  5  5  5  5  5  5  5  5  5  5  5  4  4  4  4  4  4  4  4\n",
      "  4  4  4  4  4  4  4  4  4  4  4  4  4  4  4  4  4  4  4  4  4  4  4  4\n",
      "  4  4  4  4  4  4  4  4  4  4  4  4  4  4  4  4  4  4  4  4  4  4  4  4\n",
      "  4  4  4  4  4  4  4  4  4  4  4  4  4  4  4  4  4  4  4  4  4  4  4  4\n",
      "  4  4  4  4  4  4  4  4  4  4  4  4  4  4  4  4  4  4  4  4  4  4  4  4\n",
      "  4  4  4  4  3  3  3  3  3  3  3  3  3  3  3  3  3  3  3  3  3  3  3  3\n",
      "  3  3  3  3  3  3  3  3  3  3  3  3  3  3  3  3  3  3  3  3  3  3  3  3\n",
      "  3  3  3  3  3  3  3  3  3  3  3  3  3  3  3  3  3  3  3  3  3  3  3  3\n",
      "  3  3  3  3  3  3  3  3  3  3  3  3  3  3  3  3  3  3  3  2  2  2  2  2\n",
      "  2  2  2  2  2  2  2  2  2  2  2  2  2  2  2  2  2  2  2  2  2  2  2  2\n",
      "  2  2  2  2  2  2  2  2  2  2  2  2  2  2  2  2  2  2  2  2  2  2  2  2\n",
      "  2  2  2  2  2  2  2  2  2  2  2  2  2  2  2  1  1  1  1  1  1  1  1  1\n",
      "  1  1  1  1  1  1  1  1  1  1  1  1  1  1  1  1  1  1  1  1  1  1  1  1\n",
      "  1  1  1  1  1  1  1  1  1  1]\n"
     ]
    }
   ],
   "source": [
    "print(counts.values)"
   ]
  },
  {
   "cell_type": "markdown",
   "metadata": {},
   "source": [
    "No, it doesn't seem like this column will be very helpful as it's quite spread out. There are 490 unique values and no one value has a majority, so let's just leave it to the side for now. We can always come back to it later."
   ]
  },
  {
   "cell_type": "code",
   "execution_count": 75,
   "metadata": {},
   "outputs": [],
   "source": [
    "# we make sure to copy it over and save it for later.\n",
    "emails = X.email.copy()\n",
    "X.drop('email', axis=1, inplace = True)"
   ]
  },
  {
   "cell_type": "code",
   "execution_count": 76,
   "metadata": {},
   "outputs": [
    {
     "name": "stdout",
     "output_type": "stream",
     "text": [
      "<class 'pandas.core.frame.DataFrame'>\n",
      "Index: 2000 entries, 1 to 2000\n",
      "Data columns (total 7 columns):\n",
      " #   Column                     Non-Null Count  Dtype  \n",
      "---  ------                     --------------  -----  \n",
      " 0   gender                     2000 non-null   object \n",
      " 1   ip_address                 2000 non-null   object \n",
      " 2   sales                      2000 non-null   float32\n",
      " 3   zip_code                   2000 non-null   int64  \n",
      " 4   total_num_of_transactions  2000 non-null   int64  \n",
      " 5   prob_of_rebuy              1538 non-null   float64\n",
      " 6   money_spent                1690 non-null   float64\n",
      "dtypes: float32(1), float64(2), int64(2), object(2)\n",
      "memory usage: 117.2+ KB\n"
     ]
    }
   ],
   "source": [
    "X.info()"
   ]
  },
  {
   "cell_type": "markdown",
   "metadata": {},
   "source": [
    "## Splitting the IP Address\n",
    "We now need to split up the IP address, we will use Pandas's built in str method for this."
   ]
  },
  {
   "cell_type": "code",
   "execution_count": 77,
   "metadata": {},
   "outputs": [],
   "source": [
    "X[['first_ip','second_ip','third_ip','fourth_ip']] = X.ip_address.str.split(pat=\".\", expand=True)"
   ]
  },
  {
   "cell_type": "code",
   "execution_count": 78,
   "metadata": {},
   "outputs": [],
   "source": [
    "# now we cast the columns as floats\n",
    "X[['first_ip','second_ip','third_ip','fourth_ip']] = X[['first_ip','second_ip','third_ip','fourth_ip']].astype('float32')\n",
    "# we also drop the original column\n",
    "X.drop('ip_address', axis=1, inplace=True)"
   ]
  },
  {
   "cell_type": "code",
   "execution_count": 79,
   "metadata": {},
   "outputs": [
    {
     "name": "stdout",
     "output_type": "stream",
     "text": [
      "<class 'pandas.core.frame.DataFrame'>\n",
      "Index: 2000 entries, 1 to 2000\n",
      "Data columns (total 10 columns):\n",
      " #   Column                     Non-Null Count  Dtype  \n",
      "---  ------                     --------------  -----  \n",
      " 0   gender                     2000 non-null   object \n",
      " 1   sales                      2000 non-null   float32\n",
      " 2   zip_code                   2000 non-null   int64  \n",
      " 3   total_num_of_transactions  2000 non-null   int64  \n",
      " 4   prob_of_rebuy              1538 non-null   float64\n",
      " 5   money_spent                1690 non-null   float64\n",
      " 6   first_ip                   2000 non-null   float32\n",
      " 7   second_ip                  2000 non-null   float32\n",
      " 8   third_ip                   2000 non-null   float32\n",
      " 9   fourth_ip                  2000 non-null   float32\n",
      "dtypes: float32(5), float64(2), int64(2), object(1)\n",
      "memory usage: 132.8+ KB\n"
     ]
    }
   ],
   "source": [
    "X.info()"
   ]
  },
  {
   "cell_type": "markdown",
   "metadata": {},
   "source": [
    "# One Hot Encoding\n",
    "\n",
    "Ok we are almost done, we just have to convert the gender column into something integer that we can use. We will use one-hot-encoding since gender is a categorical variable.\n",
    "\n",
    "Pandas has a `get_dummies()` function that will be very useful.\n"
   ]
  },
  {
   "cell_type": "code",
   "execution_count": 80,
   "metadata": {},
   "outputs": [
    {
     "data": {
      "text/plain": [
       "gender\n",
       "Male          775\n",
       "Female        725\n",
       "Non-Binary    500\n",
       "Name: count, dtype: int64"
      ]
     },
     "execution_count": 80,
     "metadata": {},
     "output_type": "execute_result"
    }
   ],
   "source": [
    "X.gender.value_counts()"
   ]
  },
  {
   "cell_type": "code",
   "execution_count": 81,
   "metadata": {},
   "outputs": [
    {
     "data": {
      "text/html": [
       "<div>\n",
       "<style scoped>\n",
       "    .dataframe tbody tr th:only-of-type {\n",
       "        vertical-align: middle;\n",
       "    }\n",
       "\n",
       "    .dataframe tbody tr th {\n",
       "        vertical-align: top;\n",
       "    }\n",
       "\n",
       "    .dataframe thead th {\n",
       "        text-align: right;\n",
       "    }\n",
       "</style>\n",
       "<table border=\"1\" class=\"dataframe\">\n",
       "  <thead>\n",
       "    <tr style=\"text-align: right;\">\n",
       "      <th></th>\n",
       "      <th>sales</th>\n",
       "      <th>zip_code</th>\n",
       "      <th>total_num_of_transactions</th>\n",
       "      <th>prob_of_rebuy</th>\n",
       "      <th>money_spent</th>\n",
       "      <th>first_ip</th>\n",
       "      <th>second_ip</th>\n",
       "      <th>third_ip</th>\n",
       "      <th>fourth_ip</th>\n",
       "      <th>Female</th>\n",
       "      <th>Male</th>\n",
       "      <th>Non-Binary</th>\n",
       "    </tr>\n",
       "    <tr>\n",
       "      <th>id</th>\n",
       "      <th></th>\n",
       "      <th></th>\n",
       "      <th></th>\n",
       "      <th></th>\n",
       "      <th></th>\n",
       "      <th></th>\n",
       "      <th></th>\n",
       "      <th></th>\n",
       "      <th></th>\n",
       "      <th></th>\n",
       "      <th></th>\n",
       "      <th></th>\n",
       "    </tr>\n",
       "  </thead>\n",
       "  <tbody>\n",
       "    <tr>\n",
       "      <th>1</th>\n",
       "      <td>606.159973</td>\n",
       "      <td>85349</td>\n",
       "      <td>7</td>\n",
       "      <td>NaN</td>\n",
       "      <td>3310.505486</td>\n",
       "      <td>223.0</td>\n",
       "      <td>109.0</td>\n",
       "      <td>240.0</td>\n",
       "      <td>148.0</td>\n",
       "      <td>False</td>\n",
       "      <td>False</td>\n",
       "      <td>True</td>\n",
       "    </tr>\n",
       "    <tr>\n",
       "      <th>2</th>\n",
       "      <td>147.220001</td>\n",
       "      <td>85336</td>\n",
       "      <td>9</td>\n",
       "      <td>NaN</td>\n",
       "      <td>2188.852818</td>\n",
       "      <td>73.0</td>\n",
       "      <td>174.0</td>\n",
       "      <td>113.0</td>\n",
       "      <td>87.0</td>\n",
       "      <td>False</td>\n",
       "      <td>True</td>\n",
       "      <td>False</td>\n",
       "    </tr>\n",
       "    <tr>\n",
       "      <th>3</th>\n",
       "      <td>801.969971</td>\n",
       "      <td>85350</td>\n",
       "      <td>4</td>\n",
       "      <td>0.597445</td>\n",
       "      <td>2640.499644</td>\n",
       "      <td>223.0</td>\n",
       "      <td>249.0</td>\n",
       "      <td>117.0</td>\n",
       "      <td>173.0</td>\n",
       "      <td>False</td>\n",
       "      <td>True</td>\n",
       "      <td>False</td>\n",
       "    </tr>\n",
       "    <tr>\n",
       "      <th>4</th>\n",
       "      <td>336.769989</td>\n",
       "      <td>85364</td>\n",
       "      <td>4</td>\n",
       "      <td>NaN</td>\n",
       "      <td>2872.580992</td>\n",
       "      <td>31.0</td>\n",
       "      <td>143.0</td>\n",
       "      <td>95.0</td>\n",
       "      <td>228.0</td>\n",
       "      <td>True</td>\n",
       "      <td>False</td>\n",
       "      <td>False</td>\n",
       "    </tr>\n",
       "    <tr>\n",
       "      <th>5</th>\n",
       "      <td>757.450012</td>\n",
       "      <td>85369</td>\n",
       "      <td>8</td>\n",
       "      <td>0.127835</td>\n",
       "      <td>2728.008966</td>\n",
       "      <td>63.0</td>\n",
       "      <td>71.0</td>\n",
       "      <td>174.0</td>\n",
       "      <td>230.0</td>\n",
       "      <td>False</td>\n",
       "      <td>True</td>\n",
       "      <td>False</td>\n",
       "    </tr>\n",
       "  </tbody>\n",
       "</table>\n",
       "</div>"
      ],
      "text/plain": [
       "         sales  zip_code  total_num_of_transactions  prob_of_rebuy  \\\n",
       "id                                                                   \n",
       "1   606.159973     85349                          7            NaN   \n",
       "2   147.220001     85336                          9            NaN   \n",
       "3   801.969971     85350                          4       0.597445   \n",
       "4   336.769989     85364                          4            NaN   \n",
       "5   757.450012     85369                          8       0.127835   \n",
       "\n",
       "    money_spent  first_ip  second_ip  third_ip  fourth_ip  Female   Male  \\\n",
       "id                                                                         \n",
       "1   3310.505486     223.0      109.0     240.0      148.0   False  False   \n",
       "2   2188.852818      73.0      174.0     113.0       87.0   False   True   \n",
       "3   2640.499644     223.0      249.0     117.0      173.0   False   True   \n",
       "4   2872.580992      31.0      143.0      95.0      228.0    True  False   \n",
       "5   2728.008966      63.0       71.0     174.0      230.0   False   True   \n",
       "\n",
       "    Non-Binary  \n",
       "id              \n",
       "1         True  \n",
       "2        False  \n",
       "3        False  \n",
       "4        False  \n",
       "5        False  "
      ]
     },
     "execution_count": 81,
     "metadata": {},
     "output_type": "execute_result"
    }
   ],
   "source": [
    "dumbdumbs = pd.get_dummies(X['gender'])\n",
    "X= pd.concat((X,dumbdumbs), axis = 1)\n",
    "X.drop(['gender'], axis = 1, inplace=True)\n",
    "X.head()"
   ]
  },
  {
   "cell_type": "code",
   "execution_count": 82,
   "metadata": {},
   "outputs": [
    {
     "name": "stdout",
     "output_type": "stream",
     "text": [
      "<class 'pandas.core.frame.DataFrame'>\n",
      "Index: 2000 entries, 1 to 2000\n",
      "Data columns (total 12 columns):\n",
      " #   Column                     Non-Null Count  Dtype  \n",
      "---  ------                     --------------  -----  \n",
      " 0   sales                      2000 non-null   float32\n",
      " 1   zip_code                   2000 non-null   int64  \n",
      " 2   total_num_of_transactions  2000 non-null   int64  \n",
      " 3   prob_of_rebuy              1538 non-null   float64\n",
      " 4   money_spent                1690 non-null   float64\n",
      " 5   first_ip                   2000 non-null   float32\n",
      " 6   second_ip                  2000 non-null   float32\n",
      " 7   third_ip                   2000 non-null   float32\n",
      " 8   fourth_ip                  2000 non-null   float32\n",
      " 9   Female                     2000 non-null   bool   \n",
      " 10  Male                       2000 non-null   bool   \n",
      " 11  Non-Binary                 2000 non-null   bool   \n",
      "dtypes: bool(3), float32(5), float64(2), int64(2)\n",
      "memory usage: 123.0 KB\n"
     ]
    }
   ],
   "source": [
    "X.info()"
   ]
  },
  {
   "cell_type": "markdown",
   "metadata": {},
   "source": [
    "# Data Preprocessing Stage 2 - Missing values\n",
    "\n"
   ]
  },
  {
   "cell_type": "code",
   "execution_count": 83,
   "metadata": {},
   "outputs": [],
   "source": [
    "from sklearn.impute import SimpleImputer\n",
    "imp = SimpleImputer(missing_values=np.nan, strategy='mean')"
   ]
  },
  {
   "cell_type": "code",
   "execution_count": 84,
   "metadata": {},
   "outputs": [],
   "source": [
    "X_ = imp.fit_transform(X)"
   ]
  },
  {
   "cell_type": "code",
   "execution_count": 85,
   "metadata": {},
   "outputs": [],
   "source": [
    "X= pd.DataFrame(X_, columns=X.columns)"
   ]
  },
  {
   "cell_type": "code",
   "execution_count": 86,
   "metadata": {},
   "outputs": [
    {
     "name": "stdout",
     "output_type": "stream",
     "text": [
      "<class 'pandas.core.frame.DataFrame'>\n",
      "RangeIndex: 2000 entries, 0 to 1999\n",
      "Data columns (total 12 columns):\n",
      " #   Column                     Non-Null Count  Dtype  \n",
      "---  ------                     --------------  -----  \n",
      " 0   sales                      2000 non-null   float64\n",
      " 1   zip_code                   2000 non-null   float64\n",
      " 2   total_num_of_transactions  2000 non-null   float64\n",
      " 3   prob_of_rebuy              2000 non-null   float64\n",
      " 4   money_spent                2000 non-null   float64\n",
      " 5   first_ip                   2000 non-null   float64\n",
      " 6   second_ip                  2000 non-null   float64\n",
      " 7   third_ip                   2000 non-null   float64\n",
      " 8   fourth_ip                  2000 non-null   float64\n",
      " 9   Female                     2000 non-null   float64\n",
      " 10  Male                       2000 non-null   float64\n",
      " 11  Non-Binary                 2000 non-null   float64\n",
      "dtypes: float64(12)\n",
      "memory usage: 187.6 KB\n"
     ]
    }
   ],
   "source": [
    "X.info()"
   ]
  },
  {
   "cell_type": "markdown",
   "metadata": {},
   "source": [
    "# Clustering\n",
    "\n",
    "Ok, now we have our customer data all ready to go. We have done all the hard work of preprocessing. Let's feed this data into our algorithms!\n",
    "\n",
    "We'll try two different clustering algorithms. K-means and DB-scan.\n",
    "\n",
    "\n",
    "Our goal is to cluster the data and learn what kinds of customers we have, are they related to one another at all? In order to do this we should try some clustering"
   ]
  },
  {
   "cell_type": "markdown",
   "metadata": {},
   "source": [
    "# Cluster with  K-means\n",
    "\n",
    "Let's just make some clusters and evaluate it with their silhouette score. A reminder about the silhouette score\n",
    "\n",
    ">The best value is 1 and the worst value is -1. Values near 0 indicate overlapping clusters. Negative values generally indicate that a sample has been assigned to the wrong cluster, as a different cluster is more similar.\n",
    "\n",
    "From : https://scikit-learn.org/stable/modules/generated/sklearn.metrics.silhouette_score.html#sklearn.metrics.silhouette_score\n",
    "\n",
    "Your Job:\n",
    "Run a k-means loop on clusters 2-n (you decide how many you want to try!) and see which # of clusters is best.\n",
    "\n",
    "You should scale the data first since we are hunting for clusters we definitely want the dimensions to be on the same scale (remember that distance means everything here!).\n",
    "\n",
    "#### Note:\n",
    "In an effort to slowly remove your training wheels, I have not important everything you need to accomplish your tasks here.\n"
   ]
  },
  {
   "cell_type": "code",
   "execution_count": 87,
   "metadata": {},
   "outputs": [],
   "source": [
    "# import what you need\n",
    "from sklearn.preprocessing import StandardScaler, MinMaxScaler\n",
    "from sklearn.cluster import KMeans, DBSCAN\n",
    "\n",
    "# scale your data with a scaler of your choice\n",
    "scaler = StandardScaler()\n",
    "X_scaled = scaler.fit_transform(X)"
   ]
  },
  {
   "cell_type": "code",
   "execution_count": 88,
   "metadata": {},
   "outputs": [],
   "source": [
    "# create a k-means estimator and fit it.\n",
    "kmeans = KMeans(n_clusters=8, random_state=42)\n",
    "X_clusters = kmeans.fit_predict(X_scaled)"
   ]
  },
  {
   "cell_type": "code",
   "execution_count": 89,
   "metadata": {},
   "outputs": [
    {
     "name": "stdout",
     "output_type": "stream",
     "text": [
      "The average silhouette score is: 0.0881\n"
     ]
    }
   ],
   "source": [
    "# print out the silhouette score\n",
    "from sklearn.metrics import silhouette_score\n",
    "silhouette_avg = silhouette_score(X_scaled, X_clusters)\n",
    "print(f\"The average silhouette score is: {silhouette_avg:.4f}\")"
   ]
  },
  {
   "cell_type": "code",
   "execution_count": 90,
   "metadata": {},
   "outputs": [
    {
     "name": "stdout",
     "output_type": "stream",
     "text": [
      "[0.08473972185248306, 0.1913558686436536, 0.1425074232717607, 0.12098960443455443, 0.116271801771492, 0.09589794531090805, 0.08811026321618828, 0.08950339069256805]\n"
     ]
    }
   ],
   "source": [
    "# run a loop between 2-N (your choice for N!) and print this guy out.\n",
    "silhouette_scores = []\n",
    "K = range(2, 10)  # Testing from 2 to 9 clusters\n",
    "\n",
    "for k in K:\n",
    "    kmeans = KMeans(n_clusters=k, random_state=42)\n",
    "    cluster_labels = kmeans.fit_predict(X_scaled)\n",
    "    score = silhouette_score(X_scaled, cluster_labels)\n",
    "    silhouette_scores.append(score)\n",
    "    \n",
    "\n",
    "print(silhouette_scores)"
   ]
  },
  {
   "cell_type": "markdown",
   "metadata": {},
   "source": [
    "### Cluster Discussion\n",
    "\n",
    "Ok, so we found the best number of clusters according to the silhouette score.  So what? I mean to say, what do we do with that? We know that according the silhouette score this is the best, but... even if that's correct, _now what_? How do we use these clusters to help us run our business?\n",
    "How can we learn what these clusters represent?\n",
    "\n",
    "I can think of one thing to check\n",
    "\n",
    "1. Look at the feature values of the cluster centroids.\n",
    "\n",
    "Recall that every cluster in kmeans has a centroid. That centroid is the very _center_ of the cluster, so we can look at the feature values of the centroids and see what they tell us. In theory the centroids represent the cluster (generally). \n",
    "\n",
    "We can look at the cluster centroids right now.  Let's examine then with a barplot.\n",
    "\n",
    "I'm going to give you some code help here."
   ]
  },
  {
   "cell_type": "code",
   "execution_count": 91,
   "metadata": {},
   "outputs": [],
   "source": [
    "# fit a kmeans cluster with desired number of components\n",
    "\n",
    "kmeans = KMeans(n_clusters=3, random_state=42)\n",
    "X_clusters = kmeans.fit_predict(X_scaled)"
   ]
  },
  {
   "cell_type": "code",
   "execution_count": 92,
   "metadata": {},
   "outputs": [],
   "source": [
    "# look for the centers of your clusters.  \n",
    "# Hint: your kmeans object has an attribute you'd want to use\n",
    "centers = kmeans.cluster_centers_\n"
   ]
  },
  {
   "cell_type": "code",
   "execution_count": 93,
   "metadata": {},
   "outputs": [],
   "source": [
    "# my gift to you, use it to plot your centers\n",
    "def plot_centroids(centers):\n",
    "    pd.DataFrame(centers, columns = X.columns).plot(kind = 'bar', figsize = (12,6))\n",
    "    plt.legend(loc='best', bbox_to_anchor=(0.8, 0.1, 0.5, 0.5)); # bbox is (x,y, width, height)\n"
   ]
  },
  {
   "cell_type": "code",
   "execution_count": 94,
   "metadata": {},
   "outputs": [
    {
     "data": {
      "image/png": "[encoded data removed]",
      "text/plain": [
       "<Figure size 1200x600 with 1 Axes>"
      ]
     },
     "metadata": {},
     "output_type": "display_data"
    }
   ],
   "source": [
    "plot_centroids(centers)"
   ]
  },
  {
   "cell_type": "markdown",
   "metadata": {},
   "source": [
    "# Examine your centroids\n",
    "\n",
    "What does your graph tell you?\n",
    "What features are the most important and contributing towards the clusters?\n",
    "\n",
    "Extra-Credit: Rerun your clustering algorithm with a _different_ scaling method and re-examine your centroid features. Do they change? Why? What does it mean?"
   ]
  },
  {
   "cell_type": "markdown",
   "metadata": {},
   "source": [
    "On the x axis, we have our three clusters (0, 1, and 2). The importance of each feature is labeled on the y axis and each feature is represented by a bar. It looks like gender has high importance in the clusters. "
   ]
  },
  {
   "cell_type": "code",
   "execution_count": 95,
   "metadata": {},
   "outputs": [],
   "source": [
    "scaler = MinMaxScaler()\n",
    "X_scaled = scaler.fit_transform(X)"
   ]
  },
  {
   "cell_type": "code",
   "execution_count": 96,
   "metadata": {},
   "outputs": [],
   "source": [
    "kmeans = KMeans(n_clusters=8, random_state=42)\n",
    "X_clusters = kmeans.fit_predict(X_scaled)"
   ]
  },
  {
   "cell_type": "code",
   "execution_count": 97,
   "metadata": {},
   "outputs": [
    {
     "name": "stdout",
     "output_type": "stream",
     "text": [
      "The average silhouette score is: 0.1296\n"
     ]
    }
   ],
   "source": [
    "silhouette_avg = silhouette_score(X_scaled, X_clusters)\n",
    "print(f\"The average silhouette score is: {silhouette_avg:.4f}\")"
   ]
  },
  {
   "cell_type": "code",
   "execution_count": 98,
   "metadata": {},
   "outputs": [
    {
     "name": "stdout",
     "output_type": "stream",
     "text": [
      "[0.25521693529462414, 0.3658347996167707, 0.25920752016410475, 0.16932840132917737, 0.1683552554043975, 0.12155530789992891, 0.12958195013257767, 0.12527935723056255]\n"
     ]
    }
   ],
   "source": [
    "silhouette_scores = []\n",
    "K = range(2, 10)  # Testing from 2 to 9 clusters\n",
    "\n",
    "for k in K:\n",
    "    kmeans = KMeans(n_clusters=k, random_state=42)\n",
    "    cluster_labels = kmeans.fit_predict(X_scaled)\n",
    "    score = silhouette_score(X_scaled, cluster_labels)\n",
    "    silhouette_scores.append(score)\n",
    "    \n",
    "\n",
    "print(silhouette_scores)"
   ]
  },
  {
   "cell_type": "code",
   "execution_count": 99,
   "metadata": {},
   "outputs": [],
   "source": [
    "kmeans = KMeans(n_clusters=3, random_state=42)\n",
    "X_clusters = kmeans.fit_predict(X_scaled)"
   ]
  },
  {
   "cell_type": "code",
   "execution_count": 100,
   "metadata": {},
   "outputs": [],
   "source": [
    "centers = kmeans.cluster_centers_"
   ]
  },
  {
   "cell_type": "code",
   "execution_count": 101,
   "metadata": {},
   "outputs": [
    {
     "data": {
      "image/png": "[encoded data removed]",
      "text/plain": [
       "<Figure size 1200x600 with 1 Axes>"
      ]
     },
     "metadata": {},
     "output_type": "display_data"
    }
   ],
   "source": [
    "plot_centroids(centers)"
   ]
  },
  {
   "cell_type": "markdown",
   "metadata": {},
   "source": [
    "# DB-Scan\n",
    "\n",
    "Let's now try DB-scan. Remember we have three parameters we need to set\n",
    "1. `eps` the radius of our circle that we will search in\n",
    "2. `min_samples` the minimum number of samples we need to find within our radius to call it a cluster\n",
    "3. `metric` our distance metric.  Defaults to Euclidean (L2-norm).\n",
    "\n",
    "So, we get to fiddle with 3 parameters, but we don't have to worry about \"how many\" clusters to look for, db-scan will decide for us.\n",
    "\n",
    "Go ahead and run it!\n",
    "What is the best eps / min_samples ?\n",
    "What gets you the best silhouette score?\n",
    "\n",
    "In order to answer these questions we will need to figure out a few things\n",
    "\n",
    "1. run dbscan (that's pretty easy)\n",
    "2. how many clusters did it find?\n",
    "3. how do we get the labels (predictions) from the dbscan object?"
   ]
  },
  {
   "cell_type": "code",
   "execution_count": 211,
   "metadata": {},
   "outputs": [],
   "source": [
    "# run dbscan \n",
    "# pick an eps -- how might we do this? what range are your features in?\n",
    "# Your eps should be relevant to the feature space you exist in\n",
    "# pick min_samples\n",
    "dbscan = DBSCAN(eps=0.65, min_samples=1).fit(X_scaled)\n",
    "\n",
    "\n"
   ]
  },
  {
   "cell_type": "markdown",
   "metadata": {},
   "source": [
    "\n",
    "#### ok, now you fit a dbscan. \n",
    "1. how do we figure out how many clusters it found?\n",
    "DBscan has 3 main attributes, 1\n",
    "\n",
    ">**core_sample_indices_ndarray of shape (n_core_samples,)**\n",
    "Indices of core samples.\n",
    "\n",
    ">**components_ndarray of shape (n_core_samples, n_features)**\n",
    "Copy of each core sample found by training.\n",
    "\n",
    ">**labels_ndarray of shape (n_samples)**\n",
    "Cluster labels for each point in the dataset given to fit(). Noisy samples are given the label -1.\n",
    "\n",
    "https://scikit-learn.org/stable/modules/generated/sklearn.cluster.DBSCAN.html\n",
    "\n",
    "Go ahead and look at those attributes. Print them out. Which one will help us figure out how many clusters DBscan found?\n",
    "\n",
    "Also pay attention to changing `eps`, if `eps` is too small what happens? Too large?"
   ]
  },
  {
   "cell_type": "code",
   "execution_count": 189,
   "metadata": {},
   "outputs": [
    {
     "data": {
      "text/plain": [
       "array([0, 0, 0, ..., 0, 0, 0])"
      ]
     },
     "execution_count": 189,
     "metadata": {},
     "output_type": "execute_result"
    }
   ],
   "source": [
    "dbscan.labels_"
   ]
  },
  {
   "cell_type": "code",
   "execution_count": 190,
   "metadata": {},
   "outputs": [
    {
     "data": {
      "text/plain": [
       "(2000,)"
      ]
     },
     "execution_count": 190,
     "metadata": {},
     "output_type": "execute_result"
    }
   ],
   "source": [
    "dbscan.labels_.shape"
   ]
  },
  {
   "cell_type": "code",
   "execution_count": 191,
   "metadata": {},
   "outputs": [
    {
     "data": {
      "text/plain": [
       "array([   0,    1,    2, ..., 1997, 1998, 1999])"
      ]
     },
     "execution_count": 191,
     "metadata": {},
     "output_type": "execute_result"
    }
   ],
   "source": [
    "dbscan.core_sample_indices_"
   ]
  },
  {
   "cell_type": "code",
   "execution_count": 186,
   "metadata": {},
   "outputs": [
    {
     "data": {
      "text/plain": [
       "(2000,)"
      ]
     },
     "execution_count": 186,
     "metadata": {},
     "output_type": "execute_result"
    }
   ],
   "source": [
    "dbscan.core_sample_indices_.shape"
   ]
  },
  {
   "cell_type": "markdown",
   "metadata": {},
   "source": [
    "## Calculate the Silhouette Score\n",
    "\n",
    "In order to perform the silhouette score we need the labels (that's pretty easy they are given to us), however we should _exclude_ the -1's because they represent points that are _not_ in a cluster. So they are basically discarded. We should probably collect those somewhere and else and see how large that number is. But it should not be part of the silhouette core.\n",
    "\n",
    "So\n",
    "1. seperate out the points which have the label `-1`\n",
    "\n",
    "Then after we have done that, we can calcluate the silhouette score easily. \n",
    "#### NOTE\n",
    "DBscan in scikit-learn is implemented with the notion of \"core samples\".  From the [documentation:](https://scikit-learn.org/stable/modules/clustering.html#dbscan)\n",
    ">More formally, we define a core sample as being a sample in the dataset such that there exist min_samples other samples within a distance of eps, which are defined as neighbors of the core sample. This tells us that the core sample is in a dense area of the vector space. A cluster is a set of core samples that can be built by recursively taking a core sample, finding all of its neighbors that are core samples, finding all of their neighbors that are core samples, and so on. **A cluster also has a set of non-core samples, which are samples that are neighbors of a core sample in the cluster but are not themselves core samples.** Intuitively, these samples are on the fringes of a cluster.\n",
    "\n",
    "This means that the attributes `components` and `core_sample_indices` will only return core samples, for us to get all the points _within_ the cluster we will have to rely on the labels\n",
    "\n",
    "### Number of clusters?\n",
    "But what about the # of clusters? How many did we find and how many in each cluster? We need to examine the labels again, but this time count the unique ones and also count how many of each unique we have.\n",
    "\n",
    "### Goal\n",
    "Run our little line of code, which gives both the score and # of clusters.\n",
    "\n",
    "`print(f\"The number of clusters is {num_clusters} and the Silhouette score is {silhouette_score(x_scaled, dbscan.labels_)}\")`\n",
    "\n",
    "\n",
    "Oh! we also should probably add\n",
    "`print(f\"The number of discarded points was {}\")`\n"
   ]
  },
  {
   "cell_type": "code",
   "execution_count": 212,
   "metadata": {},
   "outputs": [
    {
     "name": "stdout",
     "output_type": "stream",
     "text": [
      "[ 0  1  2  3  4  5  6  7  8  9 10 11 12 13 14 15]\n",
      "[492 771 723   1   1   1   1   2   1   1   1   1   1   1   1   1]\n"
     ]
    }
   ],
   "source": [
    "\n",
    "## remove the -1's from the labels.\n",
    "## you also will need to remove the corresponding x_scaled samples so you can compute the silhouette score.\n",
    "# you can use numpy boolean indexing masks for this.\n",
    "uniques, counts = np.unique(dbscan.labels_, return_counts=True)\n",
    "print(uniques)\n",
    "print(counts)\n",
    "\n",
    "labels = dbscan.labels_[dbscan.labels_!=-1]\n",
    "x_points = X_scaled[dbscan.labels_!=-1]\n",
    "\n",
    "\n",
    "\n"
   ]
  },
  {
   "cell_type": "code",
   "execution_count": 213,
   "metadata": {},
   "outputs": [
    {
     "data": {
      "text/plain": [
       "-0.04513799601260187"
      ]
     },
     "execution_count": 213,
     "metadata": {},
     "output_type": "execute_result"
    }
   ],
   "source": [
    "## ok if you have the labels and x's without -1's you can actually computer the Silhouette score now\n",
    "silhouette_score(x_points, labels)"
   ]
  },
  {
   "cell_type": "code",
   "execution_count": 214,
   "metadata": {},
   "outputs": [
    {
     "name": "stdout",
     "output_type": "stream",
     "text": [
      "The number of clusters is: 16\n"
     ]
    }
   ],
   "source": [
    "## how many clusters are there though?\n",
    "clusters = np.unique(labels)\n",
    "num_clusters = len(clusters)\n",
    "## you need to figure out how many unique labels there are, and also it would be nice to know\n",
    "## how many points are in each cluster\n",
    "print(f\"The number of clusters is: {num_clusters}\")\n",
    "\n",
    "\n"
   ]
  },
  {
   "cell_type": "code",
   "execution_count": 215,
   "metadata": {},
   "outputs": [
    {
     "name": "stdout",
     "output_type": "stream",
     "text": [
      "Cluster 0 has 492 points\n",
      "Cluster 1 has 771 points\n",
      "Cluster 2 has 723 points\n",
      "Cluster 3 has 1 points\n",
      "Cluster 4 has 1 points\n",
      "Cluster 5 has 1 points\n",
      "Cluster 6 has 1 points\n",
      "Cluster 7 has 2 points\n",
      "Cluster 8 has 1 points\n",
      "Cluster 9 has 1 points\n",
      "Cluster 10 has 1 points\n",
      "Cluster 11 has 1 points\n",
      "Cluster 12 has 1 points\n",
      "Cluster 13 has 1 points\n",
      "Cluster 14 has 1 points\n",
      "Cluster 15 has 1 points\n"
     ]
    }
   ],
   "source": [
    "# Assuming 'labels' is your array of labels from DBSCAN\n",
    "unique, counts = np.unique(labels, return_counts=True)\n",
    "\n",
    "# Create a dictionary to store cluster labels and their counts\n",
    "cluster_counts = dict(zip(unique, counts))\n",
    "\n",
    "# Print the counts, excluding noise if present\n",
    "for cluster, count in cluster_counts.items():\n",
    "    if cluster != -1:  # Exclude noise points\n",
    "        print(f\"Cluster {cluster} has {count} points\")"
   ]
  },
  {
   "cell_type": "markdown",
   "metadata": {},
   "source": [
    "### How does it compare? \n",
    "\n",
    "Did your DBscan find similar clusters to k-means? Same number of clusters? More ? Less? What about the silhouette score? Better or worse? \n",
    "\n",
    "k_means: After running a for loop fitting the kmeans estimator with different clusters and printing the silhouette scores of each run, I found that the 3 clusters gave the best results. \n",
    "\n",
    "DBSCAN: The clusters found by dbscan would vary depending on which parameters were set. When I had a higher eps value, the number of cluster would be smaller. For example when the eps value was at 5 there was only 1 cluster however when set to 0.5 there where 23 clusters (0 - 22) excluding the noise (-1's). Making the eps parameter too large would result in a larger radius around each point resulting in more neighboring points being clustered together. \n",
    "\n",
    "silhouette score: The silhouette score fluctuates depending on how the parameters are set for DBSCAN. For example when I set the eps value to 1.0 the silhouette score becomes close to being the same value as the kmeans silhouette score.   \n",
    "\n",
    "\n",
    "### Next we'd like to look at the centroids\n",
    "\n",
    "Actually, DBscan doesn't have centroids naturally the same way k-means does. But we can compute it ourselves.\n",
    "We would need to isolate the points of each group, and then just take the mean column wise, that would represent the centroid of each cluster.  You can do this with a numpy mask \n",
    "\n"
   ]
  },
  {
   "cell_type": "code",
   "execution_count": 216,
   "metadata": {},
   "outputs": [],
   "source": [
    "# Compute centroids for each cluster\n",
    "centers = []\n",
    "for label in uniques:\n",
    "    centers.append(x_points[labels==label].mean(axis=0))\n",
    "\n",
    "dbcenters = np.array(centers)"
   ]
  },
  {
   "cell_type": "code",
   "execution_count": 217,
   "metadata": {},
   "outputs": [
    {
     "data": {
      "text/plain": [
       "array([[0.49562182, 0.57866727, 0.49706414, 0.52024589, 0.49294449,\n",
       "        0.5060338 , 0.50388969, 0.49650088, 0.49383867, 0.        ,\n",
       "        0.        , 1.        ],\n",
       "       [0.51360587, 0.58346343, 0.48969592, 0.50607921, 0.48057005,\n",
       "        0.48878208, 0.51187406, 0.49657435, 0.49774421, 0.        ,\n",
       "        1.        , 0.        ],\n",
       "       [0.49572806, 0.61096951, 0.48563086, 0.51064159, 0.48613003,\n",
       "        0.48834106, 0.50452092, 0.52213815, 0.50691834, 1.        ,\n",
       "        0.        , 0.        ],\n",
       "       [0.84177043, 0.06815393, 0.11111111, 0.38812214, 0.47500849,\n",
       "        0.81568627, 0.03921569, 0.04313725, 0.59215686, 0.        ,\n",
       "        0.        , 1.        ],\n",
       "       [0.10900801, 0.19364194, 0.        , 0.35187839, 0.25281472,\n",
       "        0.23137255, 0.84313725, 0.21568627, 0.93333333, 0.        ,\n",
       "        0.        , 1.        ],\n",
       "       [0.75174596, 0.04160625, 0.88888889, 0.96233373, 0.76979256,\n",
       "        0.4745098 , 0.96862745, 0.4745098 , 0.29019608, 1.        ,\n",
       "        0.        , 0.        ],\n",
       "       [0.20289144, 0.78694925, 0.66666667, 0.02333996, 0.47305586,\n",
       "        0.85098039, 0.09411765, 0.57254902, 0.98823529, 0.        ,\n",
       "        0.        , 1.        ],\n",
       "       [0.08559831, 0.09419967, 0.16666667, 0.04963138, 0.46244821,\n",
       "        0.78039216, 0.89411765, 0.58627451, 0.21568627, 0.        ,\n",
       "        0.        , 1.        ],\n",
       "       [0.84581849, 0.11098717, 1.        , 0.01166556, 0.47015222,\n",
       "        0.22352941, 0.12941176, 0.91372549, 0.22745098, 0.        ,\n",
       "        1.        , 0.        ],\n",
       "       [0.26088746, 0.48432794, 0.44444444, 0.51028118, 0.04482695,\n",
       "        0.98823529, 0.34901961, 0.98039216, 0.84313725, 0.        ,\n",
       "        0.        , 1.        ],\n",
       "       [0.52159693, 0.09369771, 0.        , 0.0082836 , 0.66677128,\n",
       "        0.15686275, 0.92941176, 0.20784314, 0.61568627, 1.        ,\n",
       "        0.        , 0.        ],\n",
       "       [0.10655026, 0.10407139, 0.        , 0.91120652, 0.48584213,\n",
       "        1.        , 0.02745098, 0.05098039, 0.87843137, 0.        ,\n",
       "        1.        , 0.        ],\n",
       "       [0.45234653, 0.00669269, 1.        , 0.75530978, 0.34751694,\n",
       "        0.11372549, 0.43921569, 0.16862745, 0.99215686, 0.        ,\n",
       "        0.        , 1.        ],\n",
       "       [0.95285808, 0.34802008, 0.        , 0.01349267, 0.48584213,\n",
       "        0.79607843, 0.96078431, 0.8745098 , 0.5372549 , 0.        ,\n",
       "        1.        , 0.        ],\n",
       "       [0.24790924, 0.95437814, 0.77777778, 0.51028118, 0.9140035 ,\n",
       "        0.03921569, 0.16470588, 0.57647059, 0.81568627, 0.        ,\n",
       "        0.        , 1.        ],\n",
       "       [0.69457295, 0.20033463, 0.55555556, 0.67498613, 0.85352207,\n",
       "        0.7372549 , 0.96470588, 0.01960784, 0.02352941, 0.        ,\n",
       "        1.        , 0.        ]])"
      ]
     },
     "execution_count": 217,
     "metadata": {},
     "output_type": "execute_result"
    }
   ],
   "source": [
    "dbcenters"
   ]
  },
  {
   "cell_type": "code",
   "execution_count": 218,
   "metadata": {},
   "outputs": [
    {
     "data": {
      "image/png": "[encoded data removed]",
      "text/plain": [
       "<Figure size 1200x600 with 1 Axes>"
      ]
     },
     "metadata": {},
     "output_type": "display_data"
    }
   ],
   "source": [
    "# plot your DBScan Centroids\n",
    "\n",
    "plot_centroids(dbcenters)"
   ]
  },
  {
   "cell_type": "markdown",
   "metadata": {},
   "source": [
    "# How do your centroids compare?\n",
    "\n",
    "Did you find similar clusters? Dissimilar?\n"
   ]
  },
  {
   "cell_type": "markdown",
   "metadata": {},
   "source": [
    "The bar plots for both dbcenters and kmeans are identical when the parameters for dbscan where set in a specific way. I played around with different parameters and found that any value greater that one for eps would result in only one cluster. "
   ]
  }
 ],
 "metadata": {
  "kernelspec": {
   "display_name": "cn_ml_course",
   "language": "python",
   "name": "python3"
  },
  "language_info": {
   "codemirror_mode": {
    "name": "ipython",
    "version": 3
   },
   "file_extension": ".py",
   "mimetype": "text/x-python",
   "name": "python",
   "nbconvert_exporter": "python",
   "pygments_lexer": "ipython3",
   "version": "3.12.7"
  }
 },
 "nbformat": 4,
 "nbformat_minor": 4
}
